{
 "cells": [
  {
   "cell_type": "code",
   "execution_count": 1,
   "metadata": {},
   "outputs": [],
   "source": [
    "import pandas as pd\n",
    "import numpy as np"
   ]
  },
  {
   "cell_type": "code",
   "execution_count": 3,
   "metadata": {},
   "outputs": [],
   "source": [
    "df = pd.read_csv('./dataset/kaggle_bot_accounts.csv')"
   ]
  },
  {
   "cell_type": "code",
   "execution_count": 4,
   "metadata": {},
   "outputs": [
    {
     "data": {
      "text/html": [
       "<div>\n",
       "<style scoped>\n",
       "    .dataframe tbody tr th:only-of-type {\n",
       "        vertical-align: middle;\n",
       "    }\n",
       "\n",
       "    .dataframe tbody tr th {\n",
       "        vertical-align: top;\n",
       "    }\n",
       "\n",
       "    .dataframe thead th {\n",
       "        text-align: right;\n",
       "    }\n",
       "</style>\n",
       "<table border=\"1\" class=\"dataframe\">\n",
       "  <thead>\n",
       "    <tr style=\"text-align: right;\">\n",
       "      <th></th>\n",
       "      <th>Unnamed: 0</th>\n",
       "      <th>NAME</th>\n",
       "      <th>GENDER</th>\n",
       "      <th>EMAIL_ID</th>\n",
       "      <th>IS_GLOGIN</th>\n",
       "      <th>FOLLOWER_COUNT</th>\n",
       "      <th>FOLLOWING_COUNT</th>\n",
       "      <th>DATASET_COUNT</th>\n",
       "      <th>CODE_COUNT</th>\n",
       "      <th>DISCUSSION_COUNT</th>\n",
       "      <th>AVG_NB_READ_TIME_MIN</th>\n",
       "      <th>REGISTRATION_IPV4</th>\n",
       "      <th>REGISTRATION_LOCATION</th>\n",
       "      <th>TOTAL_VOTES_GAVE_NB</th>\n",
       "      <th>TOTAL_VOTES_GAVE_DS</th>\n",
       "      <th>TOTAL_VOTES_GAVE_DC</th>\n",
       "      <th>ISBOT</th>\n",
       "    </tr>\n",
       "  </thead>\n",
       "  <tbody>\n",
       "    <tr>\n",
       "      <th>0</th>\n",
       "      <td>0</td>\n",
       "      <td>Johnny KerrThomas</td>\n",
       "      <td>Male</td>\n",
       "      <td>jacksonalan@example.com</td>\n",
       "      <td>False</td>\n",
       "      <td>53.0</td>\n",
       "      <td>87.0</td>\n",
       "      <td>5.0</td>\n",
       "      <td>3.0</td>\n",
       "      <td>124.0</td>\n",
       "      <td>NaN</td>\n",
       "      <td>81.88.75.170</td>\n",
       "      <td>Argentina</td>\n",
       "      <td>16.0</td>\n",
       "      <td>10.0</td>\n",
       "      <td>3.0</td>\n",
       "      <td>NaN</td>\n",
       "    </tr>\n",
       "    <tr>\n",
       "      <th>1</th>\n",
       "      <td>1</td>\n",
       "      <td>Dwayne LarsenLara</td>\n",
       "      <td>Male</td>\n",
       "      <td>calvin80@example.com</td>\n",
       "      <td>True</td>\n",
       "      <td>16.0</td>\n",
       "      <td>67.0</td>\n",
       "      <td>5.0</td>\n",
       "      <td>NaN</td>\n",
       "      <td>26.0</td>\n",
       "      <td>24.97</td>\n",
       "      <td>NaN</td>\n",
       "      <td>New Zealand</td>\n",
       "      <td>14.0</td>\n",
       "      <td>5.0</td>\n",
       "      <td>2.0</td>\n",
       "      <td>NaN</td>\n",
       "    </tr>\n",
       "    <tr>\n",
       "      <th>2</th>\n",
       "      <td>2</td>\n",
       "      <td>NaN</td>\n",
       "      <td>Male</td>\n",
       "      <td>qbrown@example.net</td>\n",
       "      <td>True</td>\n",
       "      <td>44.0</td>\n",
       "      <td>81.0</td>\n",
       "      <td>4.0</td>\n",
       "      <td>17.0</td>\n",
       "      <td>125.0</td>\n",
       "      <td>7.75</td>\n",
       "      <td>159.202.103.178</td>\n",
       "      <td>Costa Rica</td>\n",
       "      <td>16.0</td>\n",
       "      <td>4.0</td>\n",
       "      <td>0.0</td>\n",
       "      <td>False</td>\n",
       "    </tr>\n",
       "    <tr>\n",
       "      <th>3</th>\n",
       "      <td>3</td>\n",
       "      <td>Russell SimmonsPhillips</td>\n",
       "      <td>Male</td>\n",
       "      <td>kimberlywagner@example.com</td>\n",
       "      <td>True</td>\n",
       "      <td>23.0</td>\n",
       "      <td>114.0</td>\n",
       "      <td>5.0</td>\n",
       "      <td>24.0</td>\n",
       "      <td>67.0</td>\n",
       "      <td>13.40</td>\n",
       "      <td>196.11.132.51</td>\n",
       "      <td>Italy</td>\n",
       "      <td>21.0</td>\n",
       "      <td>10.0</td>\n",
       "      <td>1.0</td>\n",
       "      <td>False</td>\n",
       "    </tr>\n",
       "    <tr>\n",
       "      <th>4</th>\n",
       "      <td>4</td>\n",
       "      <td>Jamie WilsonMartinez</td>\n",
       "      <td>Female</td>\n",
       "      <td>shaunbrooks@example.com</td>\n",
       "      <td>False</td>\n",
       "      <td>46.0</td>\n",
       "      <td>112.0</td>\n",
       "      <td>2.0</td>\n",
       "      <td>12.0</td>\n",
       "      <td>63.0</td>\n",
       "      <td>24.83</td>\n",
       "      <td>159.196.199.20</td>\n",
       "      <td>Belgium</td>\n",
       "      <td>10.0</td>\n",
       "      <td>6.0</td>\n",
       "      <td>2.0</td>\n",
       "      <td>False</td>\n",
       "    </tr>\n",
       "  </tbody>\n",
       "</table>\n",
       "</div>"
      ],
      "text/plain": [
       "   Unnamed: 0                     NAME  GENDER                    EMAIL_ID  \\\n",
       "0           0        Johnny KerrThomas    Male     jacksonalan@example.com   \n",
       "1           1        Dwayne LarsenLara    Male        calvin80@example.com   \n",
       "2           2                      NaN    Male          qbrown@example.net   \n",
       "3           3  Russell SimmonsPhillips    Male  kimberlywagner@example.com   \n",
       "4           4     Jamie WilsonMartinez  Female     shaunbrooks@example.com   \n",
       "\n",
       "  IS_GLOGIN  FOLLOWER_COUNT  FOLLOWING_COUNT  DATASET_COUNT  CODE_COUNT  \\\n",
       "0     False            53.0             87.0            5.0         3.0   \n",
       "1      True            16.0             67.0            5.0         NaN   \n",
       "2      True            44.0             81.0            4.0        17.0   \n",
       "3      True            23.0            114.0            5.0        24.0   \n",
       "4     False            46.0            112.0            2.0        12.0   \n",
       "\n",
       "   DISCUSSION_COUNT  AVG_NB_READ_TIME_MIN REGISTRATION_IPV4  \\\n",
       "0             124.0                   NaN      81.88.75.170   \n",
       "1              26.0                 24.97               NaN   \n",
       "2             125.0                  7.75   159.202.103.178   \n",
       "3              67.0                 13.40     196.11.132.51   \n",
       "4              63.0                 24.83    159.196.199.20   \n",
       "\n",
       "  REGISTRATION_LOCATION  TOTAL_VOTES_GAVE_NB  TOTAL_VOTES_GAVE_DS  \\\n",
       "0             Argentina                 16.0                 10.0   \n",
       "1           New Zealand                 14.0                  5.0   \n",
       "2            Costa Rica                 16.0                  4.0   \n",
       "3                 Italy                 21.0                 10.0   \n",
       "4               Belgium                 10.0                  6.0   \n",
       "\n",
       "   TOTAL_VOTES_GAVE_DC  ISBOT  \n",
       "0                  3.0    NaN  \n",
       "1                  2.0    NaN  \n",
       "2                  0.0  False  \n",
       "3                  1.0  False  \n",
       "4                  2.0  False  "
      ]
     },
     "execution_count": 4,
     "metadata": {},
     "output_type": "execute_result"
    }
   ],
   "source": [
    "df.head()"
   ]
  },
  {
   "cell_type": "code",
   "execution_count": 5,
   "metadata": {},
   "outputs": [
    {
     "data": {
      "text/plain": [
       "Index(['Unnamed: 0', 'NAME', 'GENDER', 'EMAIL_ID', 'IS_GLOGIN',\n",
       "       'FOLLOWER_COUNT', 'FOLLOWING_COUNT', 'DATASET_COUNT', 'CODE_COUNT',\n",
       "       'DISCUSSION_COUNT', 'AVG_NB_READ_TIME_MIN', 'REGISTRATION_IPV4',\n",
       "       'REGISTRATION_LOCATION', 'TOTAL_VOTES_GAVE_NB', 'TOTAL_VOTES_GAVE_DS',\n",
       "       'TOTAL_VOTES_GAVE_DC', 'ISBOT'],\n",
       "      dtype='object')"
      ]
     },
     "execution_count": 5,
     "metadata": {},
     "output_type": "execute_result"
    }
   ],
   "source": [
    "df.columns"
   ]
  },
  {
   "cell_type": "code",
   "execution_count": 6,
   "metadata": {},
   "outputs": [
    {
     "data": {
      "text/plain": [
       "Unnamed: 0                   0\n",
       "NAME                     78164\n",
       "GENDER                   77879\n",
       "EMAIL_ID                 77814\n",
       "IS_GLOGIN                77916\n",
       "FOLLOWER_COUNT           77712\n",
       "FOLLOWING_COUNT          78445\n",
       "DATASET_COUNT            78567\n",
       "CODE_COUNT               77926\n",
       "DISCUSSION_COUNT         77722\n",
       "AVG_NB_READ_TIME_MIN     78316\n",
       "REGISTRATION_IPV4        78329\n",
       "REGISTRATION_LOCATION    78290\n",
       "TOTAL_VOTES_GAVE_NB      77705\n",
       "TOTAL_VOTES_GAVE_DS      77934\n",
       "TOTAL_VOTES_GAVE_DC      78030\n",
       "ISBOT                    78500\n",
       "dtype: int64"
      ]
     },
     "execution_count": 6,
     "metadata": {},
     "output_type": "execute_result"
    }
   ],
   "source": [
    "df.isnull().sum()"
   ]
  },
  {
   "cell_type": "code",
   "execution_count": 7,
   "metadata": {},
   "outputs": [
    {
     "data": {
      "text/plain": [
       "np.int64(1249249)"
      ]
     },
     "execution_count": 7,
     "metadata": {},
     "output_type": "execute_result"
    }
   ],
   "source": [
    "df.isnull().sum().sum()"
   ]
  },
  {
   "cell_type": "code",
   "execution_count": 8,
   "metadata": {},
   "outputs": [
    {
     "data": {
      "text/plain": [
       "(1321188, 17)"
      ]
     },
     "execution_count": 8,
     "metadata": {},
     "output_type": "execute_result"
    }
   ],
   "source": [
    "\n",
    "df.shape"
   ]
  },
  {
   "cell_type": "code",
   "execution_count": 9,
   "metadata": {},
   "outputs": [],
   "source": [
    "df = df.dropna()"
   ]
  },
  {
   "cell_type": "code",
   "execution_count": 10,
   "metadata": {},
   "outputs": [
    {
     "data": {
      "text/plain": [
       "Unnamed: 0               0\n",
       "NAME                     0\n",
       "GENDER                   0\n",
       "EMAIL_ID                 0\n",
       "IS_GLOGIN                0\n",
       "FOLLOWER_COUNT           0\n",
       "FOLLOWING_COUNT          0\n",
       "DATASET_COUNT            0\n",
       "CODE_COUNT               0\n",
       "DISCUSSION_COUNT         0\n",
       "AVG_NB_READ_TIME_MIN     0\n",
       "REGISTRATION_IPV4        0\n",
       "REGISTRATION_LOCATION    0\n",
       "TOTAL_VOTES_GAVE_NB      0\n",
       "TOTAL_VOTES_GAVE_DS      0\n",
       "TOTAL_VOTES_GAVE_DC      0\n",
       "ISBOT                    0\n",
       "dtype: int64"
      ]
     },
     "execution_count": 10,
     "metadata": {},
     "output_type": "execute_result"
    }
   ],
   "source": [
    "df.isnull().sum()"
   ]
  },
  {
   "cell_type": "code",
   "execution_count": 11,
   "metadata": {},
   "outputs": [
    {
     "name": "stdout",
     "output_type": "stream",
     "text": [
      "<class 'pandas.core.frame.DataFrame'>\n",
      "Index: 498987 entries, 3 to 1321185\n",
      "Data columns (total 17 columns):\n",
      " #   Column                 Non-Null Count   Dtype  \n",
      "---  ------                 --------------   -----  \n",
      " 0   Unnamed: 0             498987 non-null  int64  \n",
      " 1   NAME                   498987 non-null  object \n",
      " 2   GENDER                 498987 non-null  object \n",
      " 3   EMAIL_ID               498987 non-null  object \n",
      " 4   IS_GLOGIN              498987 non-null  object \n",
      " 5   FOLLOWER_COUNT         498987 non-null  float64\n",
      " 6   FOLLOWING_COUNT        498987 non-null  float64\n",
      " 7   DATASET_COUNT          498987 non-null  float64\n",
      " 8   CODE_COUNT             498987 non-null  float64\n",
      " 9   DISCUSSION_COUNT       498987 non-null  float64\n",
      " 10  AVG_NB_READ_TIME_MIN   498987 non-null  float64\n",
      " 11  REGISTRATION_IPV4      498987 non-null  object \n",
      " 12  REGISTRATION_LOCATION  498987 non-null  object \n",
      " 13  TOTAL_VOTES_GAVE_NB    498987 non-null  float64\n",
      " 14  TOTAL_VOTES_GAVE_DS    498987 non-null  float64\n",
      " 15  TOTAL_VOTES_GAVE_DC    498987 non-null  float64\n",
      " 16  ISBOT                  498987 non-null  object \n",
      "dtypes: float64(9), int64(1), object(7)\n",
      "memory usage: 68.5+ MB\n"
     ]
    }
   ],
   "source": [
    "\n",
    "df.info()"
   ]
  },
  {
   "cell_type": "code",
   "execution_count": 12,
   "metadata": {},
   "outputs": [],
   "source": [
    "df.drop('Unnamed: 0', axis = 1, inplace = True)"
   ]
  },
  {
   "cell_type": "code",
   "execution_count": 13,
   "metadata": {},
   "outputs": [
    {
     "data": {
      "text/plain": [
       "Index(['NAME', 'GENDER', 'EMAIL_ID', 'IS_GLOGIN', 'FOLLOWER_COUNT',\n",
       "       'FOLLOWING_COUNT', 'DATASET_COUNT', 'CODE_COUNT', 'DISCUSSION_COUNT',\n",
       "       'AVG_NB_READ_TIME_MIN', 'REGISTRATION_IPV4', 'REGISTRATION_LOCATION',\n",
       "       'TOTAL_VOTES_GAVE_NB', 'TOTAL_VOTES_GAVE_DS', 'TOTAL_VOTES_GAVE_DC',\n",
       "       'ISBOT'],\n",
       "      dtype='object')"
      ]
     },
     "execution_count": 13,
     "metadata": {},
     "output_type": "execute_result"
    }
   ],
   "source": [
    "\n",
    "df.columns"
   ]
  },
  {
   "cell_type": "code",
   "execution_count": null,
   "metadata": {},
   "outputs": [],
   "source": []
  }
 ],
 "metadata": {
  "kernelspec": {
   "display_name": "Python 3",
   "language": "python",
   "name": "python3"
  },
  "language_info": {
   "codemirror_mode": {
    "name": "ipython",
    "version": 3
   },
   "file_extension": ".py",
   "mimetype": "text/x-python",
   "name": "python",
   "nbconvert_exporter": "python",
   "pygments_lexer": "ipython3",
   "version": "3.10.7"
  }
 },
 "nbformat": 4,
 "nbformat_minor": 2
}
